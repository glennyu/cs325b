{
 "cells": [
  {
   "cell_type": "code",
   "execution_count": 1,
   "metadata": {},
   "outputs": [
    {
     "name": "stdout",
     "output_type": "stream",
     "text": [
      "mumbai [[2014, 1, 6, 0], [2014, 1, 13, 0], [2014, 1, 20, 0], [2014, 1, 27, 0], [2014, 2, 3, 0], [2014, 2, 10, 0], [2014, 2, 17, 0], [2014, 2, 24, 2], [2014, 3, 3, 0], [2014, 3, 10, 2], [2014, 3, 17, 2], [2014, 3, 24, 2], [2014, 3, 31, 2], [2014, 4, 7, 0], [2014, 4, 14, 2], [2014, 4, 21, 2], [2014, 4, 28, 2], [2014, 5, 5, 2], [2014, 5, 12, 2], [2014, 5, 19, 2], [2014, 5, 26, 0], [2014, 6, 2, 2], [2014, 6, 9, 2], [2014, 6, 16, 2], [2014, 6, 23, 2], [2014, 6, 30, 2], [2014, 7, 7, 2], [2014, 7, 14, 2], [2014, 7, 21, 0], [2014, 7, 28, 0], [2014, 8, 4, 0], [2014, 8, 11, 0], [2014, 8, 18, 2], [2014, 8, 25, 2], [2014, 9, 1, 0], [2014, 9, 8, 0], [2014, 9, 15, 0], [2014, 9, 22, 0], [2014, 9, 29, 0], [2014, 10, 6, 2], [2014, 10, 13, 2], [2014, 10, 20, 2], [2014, 10, 27, 2], [2014, 11, 3, 2], [2014, 11, 10, 0], [2014, 11, 17, 2], [2014, 11, 24, 2], [2014, 12, 1, 0], [2014, 12, 8, 0], [2014, 12, 15, 2], [2014, 12, 22, 0], [2014, 12, 29, 0], [2015, 1, 5, 0], [2015, 1, 12, 0], [2015, 1, 19, 0], [2015, 1, 26, 2], [2015, 2, 2, 2], [2015, 2, 9, 0], [2015, 2, 16, 2], [2015, 2, 23, 0], [2015, 3, 2, 0], [2015, 3, 9, 2], [2015, 3, 16, 0], [2015, 3, 23, 0], [2015, 3, 30, 2], [2015, 4, 6, 0], [2015, 4, 13, 0], [2015, 4, 20, 2], [2015, 4, 27, 2], [2015, 5, 4, 2], [2015, 5, 11, 2], [2015, 5, 18, 2], [2015, 5, 25, 2], [2015, 6, 1, 2], [2015, 6, 8, 2], [2015, 6, 15, 0], [2015, 6, 22, 0], [2015, 6, 29, 0], [2015, 7, 6, 2], [2015, 7, 13, 2], [2015, 7, 20, 2], [2015, 7, 27, 2], [2015, 8, 3, 2], [2015, 8, 10, 0], [2015, 8, 17, 2], [2015, 8, 24, 2], [2015, 8, 31, 0], [2015, 9, 7, 2], [2015, 9, 14, 2], [2015, 9, 21, 0], [2015, 9, 28, 0], [2015, 10, 5, 0], [2015, 10, 12, 0], [2015, 10, 19, 0], [2015, 10, 26, 2], [2015, 11, 2, 0], [2015, 11, 9, 0], [2015, 11, 16, 0], [2015, 11, 23, 0], [2015, 11, 30, 0], [2015, 12, 7, 0], [2015, 12, 14, 0], [2015, 12, 21, 2], [2015, 12, 28, 2], [2016, 1, 4, 0], [2016, 1, 11, 0], [2016, 1, 18, 2], [2016, 1, 25, 0], [2016, 2, 1, 2], [2016, 2, 8, 0], [2016, 2, 15, 0], [2016, 2, 22, 0], [2016, 2, 29, 0], [2016, 3, 7, 2], [2016, 3, 14, 0], [2016, 3, 21, 2], [2016, 3, 28, 0], [2016, 4, 4, 0], [2016, 4, 11, 2], [2016, 4, 18, 0], [2016, 4, 25, 2], [2016, 5, 2, 0], [2016, 5, 9, 2], [2016, 5, 16, 0], [2016, 5, 23, 0], [2016, 5, 30, 0], [2016, 6, 6, 2], [2016, 6, 13, 2], [2016, 6, 20, 0], [2016, 6, 27, 2], [2016, 7, 4, 2], [2016, 7, 11, 2], [2016, 7, 18, 0], [2016, 7, 25, 2], [2016, 8, 1, 2], [2016, 8, 8, 0], [2016, 8, 15, 0], [2016, 8, 22, 0], [2016, 8, 29, 0], [2016, 9, 5, 0], [2016, 9, 12, 0], [2016, 9, 19, 2], [2016, 9, 26, 2], [2016, 10, 3, 2], [2016, 10, 10, 2], [2016, 10, 17, 2], [2016, 10, 24, 0], [2016, 10, 31, 2], [2016, 11, 7, 2], [2016, 11, 14, 0], [2016, 11, 21, 0], [2016, 11, 28, 2]]\n",
      "Total weeks: 152\n"
     ]
    }
   ],
   "source": [
    "# Imports\n",
    "from collections import defaultdict\n",
    "import csv\n",
    "import dateutil.parser\n",
    "import datetime\n",
    "import HTMLParser\n",
    "from nearest_words import read_file, word_to_embedding\n",
    "import nltk\n",
    "from nltk.tokenize import casual_tokenize\n",
    "import numpy as np\n",
    "import os\n",
    "from contains_city import *"
   ]
  },
  {
   "cell_type": "code",
   "execution_count": 9,
   "metadata": {},
   "outputs": [
    {
     "name": "stdout",
     "output_type": "stream",
     "text": [
      "Reading Siliguri_tweets.csv...\n",
      "0 tweets processed...\n"
     ]
    }
   ],
   "source": [
    "PATH = '../../../data_utils/city_tweets/'\n",
    "f = open(\"weekly_tweet_cnts.txt\", \"w\")\n",
    "city_to_weekly_prices = get_city_to_weeks()\n",
    "for tweets_file in os.listdir(PATH):\n",
    "    city = tweets_file.split('_')[0]\n",
    "    if city.lower() not in city_to_weekly_prices.keys():\n",
    "        continue\n",
    "    if 'siliguri' not in city.lower(): continue\n",
    "    print 'Reading ' + tweets_file + '...'\n",
    "    tweets_processed = 0\n",
    "    f.write(city + \"\\n\")\n",
    "    \n",
    "    cur_date = datetime.date(2014, 1, 1)\n",
    "    cur_cnt = {}\n",
    "    p = city_to_weekly_prices[city.lower()]\n",
    "    for week in p:\n",
    "        cur_cnt[datetime.date(week[0], week[1], week[2])] = 0\n",
    "        \n",
    "    with open(PATH + tweets_file) as csvfile:\n",
    "        reader = csv.DictReader(csvfile)\n",
    "        for row in reader:\n",
    "            if (tweets_processed % 1e5 == 0): print str(tweets_processed) + ' tweets processed...'\n",
    "            tweets_processed += 1\n",
    "            tweet_date = datetime.date(int(row['postedTime'][0:4]), int(row['postedTime'][5:7]), int(row['postedTime'][8:10]))\n",
    "            for week in cur_cnt.keys():\n",
    "                if week >= tweet_date and week - tweet_date < datetime.timedelta(days = 7):\n",
    "                    cur_cnt[week] += 1\n",
    "                    break\n",
    "    x = [(key, val) for key, val in cur_cnt.iteritems()]\n",
    "    x = sorted(x)\n",
    "    for key, val in x:\n",
    "        f.write(str(key) + \": \" + str(val) + \"\\n\")\n",
    "f.close()"
   ]
  },
  {
   "cell_type": "code",
   "execution_count": null,
   "metadata": {
    "collapsed": true
   },
   "outputs": [],
   "source": []
  }
 ],
 "metadata": {
  "kernelspec": {
   "display_name": "Python 2",
   "language": "python",
   "name": "python2"
  },
  "language_info": {
   "codemirror_mode": {
    "name": "ipython",
    "version": 2
   },
   "file_extension": ".py",
   "mimetype": "text/x-python",
   "name": "python",
   "nbconvert_exporter": "python",
   "pygments_lexer": "ipython2",
   "version": "2.7.14"
  }
 },
 "nbformat": 4,
 "nbformat_minor": 2
}
