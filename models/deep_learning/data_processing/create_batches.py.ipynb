{
 "cells": [
  {
   "cell_type": "code",
   "execution_count": 2,
   "metadata": {
    "collapsed": true
   },
   "outputs": [],
   "source": [
    "# Imports\n",
    "import numpy as np"
   ]
  },
  {
   "cell_type": "code",
   "execution_count": 3,
   "metadata": {
    "collapsed": true
   },
   "outputs": [],
   "source": [
    "# Constants\n",
    "TWEET_CNTS_FILE = 'tweet_counts.txt'\n",
    "NUM_MONTHS = 35\n",
    "K = 50 # number of tweets per batch\n",
    "MIN_TWEETS = K * 1000 # minimum number of tweets per month"
   ]
  },
  {
   "cell_type": "code",
   "execution_count": 4,
   "metadata": {
    "collapsed": false
   },
   "outputs": [
    {
     "name": "stdout",
     "output_type": "stream",
     "text": [
      "[635, 459, 129, 369, 69056, 86358, 88767, 90849, 83494, 181805, 162135, 181416, 203278, 206420, 220210, 206640, 209864, 231351, 228385, 244439, 219234, 229354, 215638, 207141, 216249, 205973, 230117, 217989, 217357, 183567, 189035, 191253, 185030, 182089, 117972]\n"
     ]
    }
   ],
   "source": [
    "# Get tweet counts\n",
    "tweet_cnts = []\n",
    "with open(TWEET_CNTS_FILE, 'r') as f:\n",
    "    line = f.readline()\n",
    "    tweet_cnts = [int(num) for num in line.strip().split(',')]\n",
    "print tweet_cnts"
   ]
  },
  {
   "cell_type": "code",
   "execution_count": 23,
   "metadata": {
    "collapsed": false
   },
   "outputs": [
    {
     "name": "stdout",
     "output_type": "stream",
     "text": [
      "Month 0\n",
      "Month 1\n",
      "Month 2\n",
      "Month 3\n",
      "Month 4\n",
      "Month 5\n",
      "Month 6\n",
      "Month 7\n",
      "Month 8\n",
      "Month 9\n",
      "Month 10\n",
      "Month 11\n",
      "Month 12\n",
      "Month 13\n",
      "Month 14\n",
      "Month 15\n",
      "Month 16\n",
      "Month 17\n",
      "Month 18\n",
      "Month 19\n",
      "Month 20\n",
      "Month 21\n",
      "Month 22\n",
      "Month 23\n",
      "Month 24\n",
      "Month 25\n",
      "Month 26\n",
      "Month 27\n",
      "Month 28\n",
      "Month 29\n",
      "Month 30\n",
      "Month 31\n",
      "Month 32\n",
      "Month 33\n",
      "Month 34\n",
      "Total batches: 118065\n"
     ]
    }
   ],
   "source": [
    "# Create batches for each month\n",
    "np.random.seed(10)\n",
    "total_batches = 0\n",
    "for month in range(NUM_MONTHS):\n",
    "    n = tweet_cnts[month]\n",
    "    rand_seq = [str(num) for num in np.random.choice(n, n, replace=False)]\n",
    "    remaining = K - (n % K)\n",
    "    rand_seq += [str(num) for num in np.random.choice(n, remaining, replace=False)]\n",
    "    # Augment data \n",
    "    while (len(rand_seq) < MIN_TWEETS):\n",
    "        rand_seq += [str(num) for num in np.random.choice(n, K, replace=False)]\n",
    "    \n",
    "    city = 'delhi'\n",
    "    num_batches = len(rand_seq) / K\n",
    "    for i in range(num_batches):\n",
    "        folder = 'batches_train/'\n",
    "        if (i <= 0.7 * num_batches):\n",
    "            folder = 'batches_train/'\n",
    "        elif (i <= 0.9 * num_batches):\n",
    "            folder = 'batches_val/'\n",
    "        else:\n",
    "            folder = 'batches_test/'\n",
    "        output_file = folder + str(month) + '_batches_' + city + '.txt'\n",
    "        with open(output_file, 'a') as output:\n",
    "                suffix = '\\n'\n",
    "                if (i == num_batches - 1): suffix = ''\n",
    "                output.write('\\t'.join(rand_seq[i * K : (i + 1) * K]) + suffix)\n",
    "    print('Month %d' % month)\n",
    "    total_batches += num_batches\n",
    "print('Total batches: %d' % total_batches)\n"
   ]
  },
  {
   "cell_type": "code",
   "execution_count": 10,
   "metadata": {
    "collapsed": false
   },
   "outputs": [
    {
     "ename": "IOError",
     "evalue": "[Errno 2] No such file or directory: 'batches/0_batches_delhi.txt'",
     "output_type": "error",
     "traceback": [
      "\u001b[0;31m---------------------------------------------------------------------------\u001b[0m",
      "\u001b[0;31mIOError\u001b[0m                                   Traceback (most recent call last)",
      "\u001b[0;32m<ipython-input-10-8d7fe2f2f680>\u001b[0m in \u001b[0;36m<module>\u001b[0;34m()\u001b[0m\n\u001b[1;32m     11\u001b[0m     \u001b[0mcity\u001b[0m \u001b[0;34m=\u001b[0m \u001b[0;34m'delhi'\u001b[0m\u001b[0;34m\u001b[0m\u001b[0m\n\u001b[1;32m     12\u001b[0m     \u001b[0moutput_file\u001b[0m \u001b[0;34m=\u001b[0m \u001b[0;34m'batches/'\u001b[0m \u001b[0;34m+\u001b[0m \u001b[0mstr\u001b[0m\u001b[0;34m(\u001b[0m\u001b[0mmonth\u001b[0m\u001b[0;34m)\u001b[0m \u001b[0;34m+\u001b[0m \u001b[0;34m'_batches_'\u001b[0m \u001b[0;34m+\u001b[0m \u001b[0mcity\u001b[0m \u001b[0;34m+\u001b[0m \u001b[0;34m'.txt'\u001b[0m\u001b[0;34m\u001b[0m\u001b[0m\n\u001b[0;32m---> 13\u001b[0;31m     \u001b[0;32mwith\u001b[0m \u001b[0mopen\u001b[0m\u001b[0;34m(\u001b[0m\u001b[0moutput_file\u001b[0m\u001b[0;34m,\u001b[0m \u001b[0;34m'w'\u001b[0m\u001b[0;34m)\u001b[0m \u001b[0;32mas\u001b[0m \u001b[0moutput\u001b[0m\u001b[0;34m:\u001b[0m\u001b[0;34m\u001b[0m\u001b[0m\n\u001b[0m\u001b[1;32m     14\u001b[0m         \u001b[0mnum_batches\u001b[0m \u001b[0;34m=\u001b[0m \u001b[0mlen\u001b[0m\u001b[0;34m(\u001b[0m\u001b[0mrand_seq\u001b[0m\u001b[0;34m)\u001b[0m \u001b[0;34m/\u001b[0m \u001b[0mK\u001b[0m\u001b[0;34m\u001b[0m\u001b[0m\n\u001b[1;32m     15\u001b[0m         \u001b[0;32mfor\u001b[0m \u001b[0mi\u001b[0m \u001b[0;32min\u001b[0m \u001b[0mrange\u001b[0m\u001b[0;34m(\u001b[0m\u001b[0mnum_batches\u001b[0m\u001b[0;34m)\u001b[0m\u001b[0;34m:\u001b[0m\u001b[0;34m\u001b[0m\u001b[0m\n",
      "\u001b[0;31mIOError\u001b[0m: [Errno 2] No such file or directory: 'batches/0_batches_delhi.txt'"
     ]
    }
   ],
   "source": [
    "# Augment data for first four monnths\n",
    "np.random.seed(10)\n",
    "for month in range(4):\n",
    "    n = tweet_cnts[month]\n",
    "    rand_seq = [str(num) for num in np.random.choice(n, n, replace=False)]\n",
    "    remaining = K - (n % K)\n",
    "    rand_seq += [str(num) for num in np.random.choice(n, remaining, replace=False)]\n",
    "    while (len(rand_seq) < MIN_TWEETS):\n",
    "        rand_seq += [str(num) for num in np.random.choice(n, K, replace=False)]\n",
    "    \n",
    "    city = 'delhi'\n",
    "    output_file = 'batches/' + str(month) + '_batches_' + city + '.txt'\n",
    "    with open(output_file, 'w') as output:\n",
    "        num_batches = len(rand_seq) / K\n",
    "        for i in range(num_batches):\n",
    "            suffix = '\\n'\n",
    "            if (i == num_batches - 1): suffix = ''\n",
    "            output.write('\\t'.join(rand_seq[i * K : (i + 1) * K]) + suffix)"
   ]
  },
  {
   "cell_type": "code",
   "execution_count": null,
   "metadata": {
    "collapsed": true
   },
   "outputs": [],
   "source": []
  }
 ],
 "metadata": {
  "anaconda-cloud": {},
  "kernelspec": {
   "display_name": "Python [default]",
   "language": "python",
   "name": "python2"
  },
  "language_info": {
   "codemirror_mode": {
    "name": "ipython",
    "version": 2
   },
   "file_extension": ".py",
   "mimetype": "text/x-python",
   "name": "python",
   "nbconvert_exporter": "python",
   "pygments_lexer": "ipython2",
   "version": "2.7.12"
  }
 },
 "nbformat": 4,
 "nbformat_minor": 1
}
