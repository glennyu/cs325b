{
 "cells": [
  {
   "cell_type": "code",
   "execution_count": 2,
   "metadata": {
    "collapsed": true
   },
   "outputs": [],
   "source": [
    "# Imports\n",
    "import numpy as np"
   ]
  },
  {
   "cell_type": "code",
   "execution_count": 3,
   "metadata": {
    "collapsed": true
   },
   "outputs": [],
   "source": [
    "# Constants\n",
    "TWEET_CNTS_FILE = 'tweet_counts.txt'\n",
    "NUM_MONTHS = 35\n",
    "K = 50 # number of tweets per batch\n",
    "NUM_RESAMPLES = 5 # number of times to resample from city-month tweets to generate batches\n",
    "MIN_TWEETS = K * 1000 # minimum number of tweets per month"
   ]
  },
  {
   "cell_type": "code",
   "execution_count": 4,
   "metadata": {
    "collapsed": false
   },
   "outputs": [
    {
     "name": "stdout",
     "output_type": "stream",
     "text": [
      "[635, 459, 129, 369, 69056, 86358, 88767, 90849, 83494, 181805, 162135, 181416, 203278, 206420, 220210, 206640, 209864, 231351, 228385, 244439, 219234, 229354, 215638, 207141, 216249, 205973, 230117, 217989, 217357, 183567, 189035, 191253, 185030, 182089, 117972]\n"
     ]
    }
   ],
   "source": [
    "# Get tweet counts\n",
    "tweet_cnts = []\n",
    "with open(TWEET_CNTS_FILE, 'r') as f:\n",
    "    line = f.readline()\n",
    "    tweet_cnts = [int(num) for num in line.strip().split(',')]\n",
    "print tweet_cnts"
   ]
  },
  {
   "cell_type": "code",
   "execution_count": 4,
   "metadata": {
    "collapsed": false
   },
   "outputs": [],
   "source": [
    "# Create batches for a city given a tweet count\n",
    "# Inputs: tweet count (int), city name (str), month index (int), trend (int = 0, 1, 2), spike (int = 0 ,1)\n",
    "# Outputs: [city name]_[month index]_batch.txt, a file containing the indexes of each tweet batch input\n",
    "# Returns: number of batches created for that month\n",
    "def create_batches(tweet_count, city_name, month_idx, trend, spike):\n",
    "    np.random.seed(10)\n",
    "    \n",
    "    n = tweet_count\n",
    "    rand_seq = []\n",
    "    for i in range(NUM_RESAMPLES):\n",
    "        cur = [str(num) for num in np.random.choice(n, n, replace=False)]\n",
    "        remaining = K - (n % K) # used to make the length of rand_seq a multiple of K\n",
    "        cur += [str(num) for num in np.random.choice(n, remaining, replace=False)]\n",
    "        rand_seq += cur\n",
    "\n",
    "    num_batches = len(rand_seq) / K\n",
    "    for i in range(num_batches):\n",
    "        folder = 'batches_train'\n",
    "        if (i <= 0.7 * num_batches):\n",
    "            folder = 'batches_train'\n",
    "        elif (i <= 0.9 * num_batches):\n",
    "            folder = 'batches_val'\n",
    "        else:\n",
    "            folder = 'batches_test'\n",
    "        output_file = '%s/%s_%s_batch.txt' % (folder, city_name, str(month_idx))\n",
    "        with open(output_file, 'w') as output:\n",
    "                if (i == 0):\n",
    "                    output.write('%d,%d\\n' % (trend, spike))\n",
    "                suffix = '\\n'\n",
    "                if (i == num_batches - 1): suffix = ''\n",
    "                output.write('\\t'.join(rand_seq[i * K : (i + 1) * K]) + suffix)\n",
    "    \n",
    "    return num_batches"
   ]
  },
  {
   "cell_type": "code",
   "execution_count": null,
   "metadata": {
    "collapsed": true
   },
   "outputs": [],
   "source": []
  }
 ],
 "metadata": {
  "anaconda-cloud": {},
  "kernelspec": {
   "display_name": "Python [default]",
   "language": "python",
   "name": "python2"
  },
  "language_info": {
   "codemirror_mode": {
    "name": "ipython",
    "version": 2
   },
   "file_extension": ".py",
   "mimetype": "text/x-python",
   "name": "python",
   "nbconvert_exporter": "python",
   "pygments_lexer": "ipython2",
   "version": "2.7.12"
  }
 },
 "nbformat": 4,
 "nbformat_minor": 1
}
