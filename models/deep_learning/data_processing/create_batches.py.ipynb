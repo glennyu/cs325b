{
 "cells": [
  {
   "cell_type": "code",
   "execution_count": 46,
   "metadata": {
    "collapsed": true
   },
   "outputs": [],
   "source": [
    "# Imports\n",
    "import numpy as np"
   ]
  },
  {
   "cell_type": "code",
   "execution_count": 53,
   "metadata": {
    "collapsed": true
   },
   "outputs": [],
   "source": [
    "# Constants\n",
    "TWEET_CNTS_FILE = 'tweet_counts.txt'\n",
    "NUM_MONTHS = 35\n",
    "K = 50 # number of tweets per batch"
   ]
  },
  {
   "cell_type": "code",
   "execution_count": 54,
   "metadata": {
    "collapsed": false
   },
   "outputs": [
    {
     "name": "stdout",
     "output_type": "stream",
     "text": [
      "[635, 459, 129, 369, 69056, 86358, 88767, 90849, 83494, 181805, 162135, 181416, 203278, 206420, 220210, 206640, 209864, 231351, 228385, 244439, 219234, 229354, 215638, 207141, 216249, 205973, 230117, 217989, 217357, 183567, 189035, 191253, 185030, 182089, 117972]\n"
     ]
    }
   ],
   "source": [
    "# Get tweet counts\n",
    "tweet_cnts = []\n",
    "with open(TWEET_CNTS_FILE, 'r') as f:\n",
    "    line = f.readline()\n",
    "    tweet_cnts = [int(num) for num in line.strip().split(',')]\n",
    "print tweet_cnts"
   ]
  },
  {
   "cell_type": "code",
   "execution_count": 55,
   "metadata": {
    "collapsed": false
   },
   "outputs": [],
   "source": [
    "# Create batches for each month\n",
    "np.random.seed(10)\n",
    "for month in range(NUM_MONTHS):\n",
    "    n = tweet_cnts[month]\n",
    "    rand_seq = [str(num) for num in np.random.choice(n, n, replace=False)]\n",
    "    remaining = K - (n % K)\n",
    "    rand_seq += [str(num) for num in np.random.choice(n, remaining, replace=False)]\n",
    "    \n",
    "    city = 'delhi'\n",
    "    output_file = 'batches/' + str(month) + '_batches_' + city + '.txt'\n",
    "    with open(output_file, 'w') as output:\n",
    "        num_batches = len(rand_seq) / K\n",
    "        for i in range(num_batches):\n",
    "            suffix = '\\n'\n",
    "            if (i == num_batches - 1): suffix = ''\n",
    "            output.write('\\t'.join(rand_seq[i * K : (i + 1) * K]) + suffix)"
   ]
  },
  {
   "cell_type": "code",
   "execution_count": null,
   "metadata": {
    "collapsed": true
   },
   "outputs": [],
   "source": []
  },
  {
   "cell_type": "code",
   "execution_count": null,
   "metadata": {
    "collapsed": true
   },
   "outputs": [],
   "source": []
  },
  {
   "cell_type": "code",
   "execution_count": 2,
   "metadata": {
    "collapsed": true
   },
   "outputs": [],
   "source": [
    "\n",
    "        "
   ]
  },
  {
   "cell_type": "code",
   "execution_count": null,
   "metadata": {
    "collapsed": true
   },
   "outputs": [],
   "source": []
  }
 ],
 "metadata": {
  "anaconda-cloud": {},
  "kernelspec": {
   "display_name": "Python [default]",
   "language": "python",
   "name": "python2"
  },
  "language_info": {
   "codemirror_mode": {
    "name": "ipython",
    "version": 2
   },
   "file_extension": ".py",
   "mimetype": "text/x-python",
   "name": "python",
   "nbconvert_exporter": "python",
   "pygments_lexer": "ipython2",
   "version": "2.7.12"
  }
 },
 "nbformat": 4,
 "nbformat_minor": 1
}
